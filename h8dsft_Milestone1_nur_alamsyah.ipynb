{
 "cells": [
  {
   "cell_type": "markdown",
   "metadata": {},
   "source": [
    "Link Tableau: https://public.tableau.com/views/Inc_50002014Analysis/Story1?:language=en-US&publish=yes&:display_count=n&:origin=viz_share_link\n",
    "\n",
    "# Introduction\n",
    "\n",
    "Nama: Muhammad Nur Alamsyah\n",
    "\n",
    "Batch: RMT-023\n",
    "\n",
    "Objective: Membuat analisa berdasarkan data dan membuat dashboard visualisasi\n",
    "\n",
    "Sumber Data: https://public.tableau.com/app/learn/sample-data\n",
    "\n",
    "Link Download Data: https://public.tableau.com/app/sample-data/Data%20Set-%20Inc5000%20Company%20List_2014.csv\n"
   ]
  },
  {
   "cell_type": "markdown",
   "metadata": {},
   "source": [
    "# Identifikasi Masalah"
   ]
  },
  {
   "cell_type": "markdown",
   "metadata": {},
   "source": [
    "**Topik Masalah**\n",
    "\n",
    "Pertumbuhan dan pendapatan perusahaan swasta di Amerika Serikat tahun 2014.\n",
    "\n",
    "**Problem Statement**\n",
    "\n",
    "Problem Statement: Mengidentifikasi pertumbuhan dan pendapatan dari 5000 perusahaan swasta di Amerika Serikat berdasarkan data \"The Inc. 5000\" tahun 2014.\n",
    "\n",
    "\n",
    "**Latar Belakang**\n",
    "\n",
    "\"Inc. 5000\" adalah daftar tahunan yang diterbitkan oleh majalah bisnis \"Inc.\" yang mengenali dan menghormati perusahaan-perusahaan swasta dengan pertumbuhan yang sangat cepat di Amerika Serikat. Daftar ini merupakan kelanjutan dari \"Inc. 500,\" yang telah ada sejak tahun 1982. Data yang diambil mencakup dari berbagai industri, termasuk teknologi, manufaktur, perawatan kesehatan, keuangan, dan banyak lainnya. Ini mencerminkan keragaman ekonomi Amerika Serikat. Perusahaan-perusahaan yang ada dalam daftar ini sering kali menciptakan lapangan kerja baru dan mendukung pertumbuhan ekonomi lokal. Oleh karena itu, hasil analisis data dapat memberikan wawasan mengenai tren pertumbuhan perusahaan swasta yang dapat menjadi panduan dalam pendirian atau pengembangan perusahaan.\n",
    "\n",
    "**Penjabaran Masalah**\n",
    "- Industry mana dengan rata-rata growth paling tinggi?\n",
    "- State manakah dengan rata-rata growth paling tinggi?\n",
    "- Industri manakah yang mencetak banyak lapangan kerja?\n",
    "- Apakah terdapat perbedaan signifikan dari growth antar lokasi company (berdasarkan state)?\n",
    "- Apakah terdapat perbedaan signifikan dari growth antar jenis industry?\n",
    "- Apakah terdapat perbedaan signifikan dari banyak pekerja antar jenis industri?"
   ]
  },
  {
   "cell_type": "markdown",
   "metadata": {},
   "source": [
    "# Data Loading"
   ]
  },
  {
   "cell_type": "markdown",
   "metadata": {},
   "source": [
    "Import data"
   ]
  },
  {
   "cell_type": "code",
   "execution_count": 1,
   "metadata": {},
   "outputs": [
    {
     "data": {
      "text/html": [
       "<div>\n",
       "<style scoped>\n",
       "    .dataframe tbody tr th:only-of-type {\n",
       "        vertical-align: middle;\n",
       "    }\n",
       "\n",
       "    .dataframe tbody tr th {\n",
       "        vertical-align: top;\n",
       "    }\n",
       "\n",
       "    .dataframe thead th {\n",
       "        text-align: right;\n",
       "    }\n",
       "</style>\n",
       "<table border=\"1\" class=\"dataframe\">\n",
       "  <thead>\n",
       "    <tr style=\"text-align: right;\">\n",
       "      <th></th>\n",
       "      <th>_input</th>\n",
       "      <th>_num</th>\n",
       "      <th>_widgetName</th>\n",
       "      <th>_source</th>\n",
       "      <th>_resultNumber</th>\n",
       "      <th>_pageUrl</th>\n",
       "      <th>id</th>\n",
       "      <th>rank</th>\n",
       "      <th>workers</th>\n",
       "      <th>company</th>\n",
       "      <th>url</th>\n",
       "      <th>state_l</th>\n",
       "      <th>state_s</th>\n",
       "      <th>city</th>\n",
       "      <th>metro</th>\n",
       "      <th>growth</th>\n",
       "      <th>revenue</th>\n",
       "      <th>industry</th>\n",
       "      <th>yrs_on_list</th>\n",
       "    </tr>\n",
       "  </thead>\n",
       "  <tbody>\n",
       "    <tr>\n",
       "      <th>0</th>\n",
       "      <td>NaN</td>\n",
       "      <td>1</td>\n",
       "      <td>Inc5000 Company List</td>\n",
       "      <td>Inc5000 Company List</td>\n",
       "      <td>1</td>\n",
       "      <td>http://www.inc.com/inc5000list/json/inc5000_20...</td>\n",
       "      <td>22890</td>\n",
       "      <td>1</td>\n",
       "      <td>227</td>\n",
       "      <td>Fuhu</td>\n",
       "      <td>fuhu</td>\n",
       "      <td>California</td>\n",
       "      <td>CA</td>\n",
       "      <td>El Segundo</td>\n",
       "      <td>Los Angeles</td>\n",
       "      <td>158956.9106</td>\n",
       "      <td>195640000</td>\n",
       "      <td>Consumer Products &amp; Services</td>\n",
       "      <td>2</td>\n",
       "    </tr>\n",
       "    <tr>\n",
       "      <th>1</th>\n",
       "      <td>NaN</td>\n",
       "      <td>2</td>\n",
       "      <td>Inc5000 Company List</td>\n",
       "      <td>Inc5000 Company List</td>\n",
       "      <td>2</td>\n",
       "      <td>http://www.inc.com/inc5000list/json/inc5000_20...</td>\n",
       "      <td>25747</td>\n",
       "      <td>2</td>\n",
       "      <td>191</td>\n",
       "      <td>Quest Nutrition</td>\n",
       "      <td>quest-nutrition</td>\n",
       "      <td>California</td>\n",
       "      <td>CA</td>\n",
       "      <td>El Segundo</td>\n",
       "      <td>Los Angeles</td>\n",
       "      <td>57347.9246</td>\n",
       "      <td>82640563</td>\n",
       "      <td>Food &amp; Beverage</td>\n",
       "      <td>1</td>\n",
       "    </tr>\n",
       "    <tr>\n",
       "      <th>2</th>\n",
       "      <td>NaN</td>\n",
       "      <td>3</td>\n",
       "      <td>Inc5000 Company List</td>\n",
       "      <td>Inc5000 Company List</td>\n",
       "      <td>3</td>\n",
       "      <td>http://www.inc.com/inc5000list/json/inc5000_20...</td>\n",
       "      <td>25643</td>\n",
       "      <td>3</td>\n",
       "      <td>145</td>\n",
       "      <td>Reliant Asset Management</td>\n",
       "      <td>reliant-asset-management</td>\n",
       "      <td>Virginia</td>\n",
       "      <td>VA</td>\n",
       "      <td>Arlington</td>\n",
       "      <td>Washington DC</td>\n",
       "      <td>55460.1646</td>\n",
       "      <td>85076502</td>\n",
       "      <td>Business Products &amp; Services</td>\n",
       "      <td>1</td>\n",
       "    </tr>\n",
       "    <tr>\n",
       "      <th>3</th>\n",
       "      <td>NaN</td>\n",
       "      <td>4</td>\n",
       "      <td>Inc5000 Company List</td>\n",
       "      <td>Inc5000 Company List</td>\n",
       "      <td>4</td>\n",
       "      <td>http://www.inc.com/inc5000list/json/inc5000_20...</td>\n",
       "      <td>26098</td>\n",
       "      <td>4</td>\n",
       "      <td>62</td>\n",
       "      <td>Superfish</td>\n",
       "      <td>superfish</td>\n",
       "      <td>California</td>\n",
       "      <td>CA</td>\n",
       "      <td>Palo Alto</td>\n",
       "      <td>San Jose</td>\n",
       "      <td>26042.9630</td>\n",
       "      <td>35293000</td>\n",
       "      <td>Software</td>\n",
       "      <td>1</td>\n",
       "    </tr>\n",
       "    <tr>\n",
       "      <th>4</th>\n",
       "      <td>NaN</td>\n",
       "      <td>5</td>\n",
       "      <td>Inc5000 Company List</td>\n",
       "      <td>Inc5000 Company List</td>\n",
       "      <td>5</td>\n",
       "      <td>http://www.inc.com/inc5000list/json/inc5000_20...</td>\n",
       "      <td>26182</td>\n",
       "      <td>5</td>\n",
       "      <td>92</td>\n",
       "      <td>Acacia Communications</td>\n",
       "      <td>acacia-communications</td>\n",
       "      <td>Massachusetts</td>\n",
       "      <td>MA</td>\n",
       "      <td>Maynard</td>\n",
       "      <td>Boston</td>\n",
       "      <td>20690.4578</td>\n",
       "      <td>77652360</td>\n",
       "      <td>Telecommunications</td>\n",
       "      <td>1</td>\n",
       "    </tr>\n",
       "    <tr>\n",
       "      <th>...</th>\n",
       "      <td>...</td>\n",
       "      <td>...</td>\n",
       "      <td>...</td>\n",
       "      <td>...</td>\n",
       "      <td>...</td>\n",
       "      <td>...</td>\n",
       "      <td>...</td>\n",
       "      <td>...</td>\n",
       "      <td>...</td>\n",
       "      <td>...</td>\n",
       "      <td>...</td>\n",
       "      <td>...</td>\n",
       "      <td>...</td>\n",
       "      <td>...</td>\n",
       "      <td>...</td>\n",
       "      <td>...</td>\n",
       "      <td>...</td>\n",
       "      <td>...</td>\n",
       "      <td>...</td>\n",
       "    </tr>\n",
       "    <tr>\n",
       "      <th>4995</th>\n",
       "      <td>NaN</td>\n",
       "      <td>4996</td>\n",
       "      <td>Inc5000 Company List</td>\n",
       "      <td>Inc5000 Company List</td>\n",
       "      <td>4996</td>\n",
       "      <td>http://www.inc.com/inc5000list/json/inc5000_20...</td>\n",
       "      <td>3645</td>\n",
       "      <td>4996</td>\n",
       "      <td>32</td>\n",
       "      <td>Euclid Technology</td>\n",
       "      <td>euclid-technology</td>\n",
       "      <td>Maryland</td>\n",
       "      <td>MD</td>\n",
       "      <td>Bethesda</td>\n",
       "      <td>Washington DC</td>\n",
       "      <td>42.5489</td>\n",
       "      <td>4411889</td>\n",
       "      <td>Software</td>\n",
       "      <td>4</td>\n",
       "    </tr>\n",
       "    <tr>\n",
       "      <th>4996</th>\n",
       "      <td>NaN</td>\n",
       "      <td>4997</td>\n",
       "      <td>Inc5000 Company List</td>\n",
       "      <td>Inc5000 Company List</td>\n",
       "      <td>4997</td>\n",
       "      <td>http://www.inc.com/inc5000list/json/inc5000_20...</td>\n",
       "      <td>21959</td>\n",
       "      <td>4997</td>\n",
       "      <td>69</td>\n",
       "      <td>World Water Works</td>\n",
       "      <td>world-water-works</td>\n",
       "      <td>Oklahoma</td>\n",
       "      <td>OK</td>\n",
       "      <td>Oklahoma City</td>\n",
       "      <td>Oklahoma City OK</td>\n",
       "      <td>42.5423</td>\n",
       "      <td>15039730</td>\n",
       "      <td>Environmental Services</td>\n",
       "      <td>3</td>\n",
       "    </tr>\n",
       "    <tr>\n",
       "      <th>4997</th>\n",
       "      <td>NaN</td>\n",
       "      <td>4998</td>\n",
       "      <td>Inc5000 Company List</td>\n",
       "      <td>Inc5000 Company List</td>\n",
       "      <td>4998</td>\n",
       "      <td>http://www.inc.com/inc5000list/json/inc5000_20...</td>\n",
       "      <td>367</td>\n",
       "      <td>4998</td>\n",
       "      <td>35</td>\n",
       "      <td>Sensis</td>\n",
       "      <td>sensis</td>\n",
       "      <td>California</td>\n",
       "      <td>CA</td>\n",
       "      <td>Los Angeles</td>\n",
       "      <td>Los Angeles</td>\n",
       "      <td>42.5190</td>\n",
       "      <td>11078000</td>\n",
       "      <td>Advertising &amp; Marketing</td>\n",
       "      <td>7</td>\n",
       "    </tr>\n",
       "    <tr>\n",
       "      <th>4998</th>\n",
       "      <td>NaN</td>\n",
       "      <td>4999</td>\n",
       "      <td>Inc5000 Company List</td>\n",
       "      <td>Inc5000 Company List</td>\n",
       "      <td>4999</td>\n",
       "      <td>http://www.inc.com/inc5000list/json/inc5000_20...</td>\n",
       "      <td>26459</td>\n",
       "      <td>4999</td>\n",
       "      <td>154</td>\n",
       "      <td>WBC Group</td>\n",
       "      <td>wbc-group</td>\n",
       "      <td>Ohio</td>\n",
       "      <td>OH</td>\n",
       "      <td>Hudson</td>\n",
       "      <td>Akron OH</td>\n",
       "      <td>42.5055</td>\n",
       "      <td>67867115</td>\n",
       "      <td>Health</td>\n",
       "      <td>1</td>\n",
       "    </tr>\n",
       "    <tr>\n",
       "      <th>4999</th>\n",
       "      <td>NaN</td>\n",
       "      <td>5000</td>\n",
       "      <td>Inc5000 Company List</td>\n",
       "      <td>Inc5000 Company List</td>\n",
       "      <td>5000</td>\n",
       "      <td>http://www.inc.com/inc5000list/json/inc5000_20...</td>\n",
       "      <td>24415</td>\n",
       "      <td>5000</td>\n",
       "      <td>230</td>\n",
       "      <td>Mach1 Global Services</td>\n",
       "      <td>mach1-global-services</td>\n",
       "      <td>Arizona</td>\n",
       "      <td>AZ</td>\n",
       "      <td>Tempe</td>\n",
       "      <td>Phoenix</td>\n",
       "      <td>42.4470</td>\n",
       "      <td>105299201</td>\n",
       "      <td>Logistics &amp; Transportation</td>\n",
       "      <td>3</td>\n",
       "    </tr>\n",
       "  </tbody>\n",
       "</table>\n",
       "<p>5000 rows × 19 columns</p>\n",
       "</div>"
      ],
      "text/plain": [
       "      _input  _num           _widgetName               _source  _resultNumber  \\\n",
       "0        NaN     1  Inc5000 Company List  Inc5000 Company List              1   \n",
       "1        NaN     2  Inc5000 Company List  Inc5000 Company List              2   \n",
       "2        NaN     3  Inc5000 Company List  Inc5000 Company List              3   \n",
       "3        NaN     4  Inc5000 Company List  Inc5000 Company List              4   \n",
       "4        NaN     5  Inc5000 Company List  Inc5000 Company List              5   \n",
       "...      ...   ...                   ...                   ...            ...   \n",
       "4995     NaN  4996  Inc5000 Company List  Inc5000 Company List           4996   \n",
       "4996     NaN  4997  Inc5000 Company List  Inc5000 Company List           4997   \n",
       "4997     NaN  4998  Inc5000 Company List  Inc5000 Company List           4998   \n",
       "4998     NaN  4999  Inc5000 Company List  Inc5000 Company List           4999   \n",
       "4999     NaN  5000  Inc5000 Company List  Inc5000 Company List           5000   \n",
       "\n",
       "                                               _pageUrl     id  rank  workers  \\\n",
       "0     http://www.inc.com/inc5000list/json/inc5000_20...  22890     1      227   \n",
       "1     http://www.inc.com/inc5000list/json/inc5000_20...  25747     2      191   \n",
       "2     http://www.inc.com/inc5000list/json/inc5000_20...  25643     3      145   \n",
       "3     http://www.inc.com/inc5000list/json/inc5000_20...  26098     4       62   \n",
       "4     http://www.inc.com/inc5000list/json/inc5000_20...  26182     5       92   \n",
       "...                                                 ...    ...   ...      ...   \n",
       "4995  http://www.inc.com/inc5000list/json/inc5000_20...   3645  4996       32   \n",
       "4996  http://www.inc.com/inc5000list/json/inc5000_20...  21959  4997       69   \n",
       "4997  http://www.inc.com/inc5000list/json/inc5000_20...    367  4998       35   \n",
       "4998  http://www.inc.com/inc5000list/json/inc5000_20...  26459  4999      154   \n",
       "4999  http://www.inc.com/inc5000list/json/inc5000_20...  24415  5000      230   \n",
       "\n",
       "                       company                       url        state_l  \\\n",
       "0                         Fuhu                      fuhu     California   \n",
       "1              Quest Nutrition           quest-nutrition     California   \n",
       "2     Reliant Asset Management  reliant-asset-management       Virginia   \n",
       "3                    Superfish                 superfish     California   \n",
       "4        Acacia Communications     acacia-communications  Massachusetts   \n",
       "...                        ...                       ...            ...   \n",
       "4995         Euclid Technology         euclid-technology       Maryland   \n",
       "4996         World Water Works         world-water-works       Oklahoma   \n",
       "4997                    Sensis                    sensis     California   \n",
       "4998                 WBC Group                 wbc-group           Ohio   \n",
       "4999     Mach1 Global Services     mach1-global-services        Arizona   \n",
       "\n",
       "     state_s           city             metro       growth    revenue  \\\n",
       "0         CA     El Segundo       Los Angeles  158956.9106  195640000   \n",
       "1         CA     El Segundo       Los Angeles   57347.9246   82640563   \n",
       "2         VA      Arlington     Washington DC   55460.1646   85076502   \n",
       "3         CA      Palo Alto          San Jose   26042.9630   35293000   \n",
       "4         MA        Maynard            Boston   20690.4578   77652360   \n",
       "...      ...            ...               ...          ...        ...   \n",
       "4995      MD       Bethesda     Washington DC      42.5489    4411889   \n",
       "4996      OK  Oklahoma City  Oklahoma City OK      42.5423   15039730   \n",
       "4997      CA    Los Angeles       Los Angeles      42.5190   11078000   \n",
       "4998      OH         Hudson          Akron OH      42.5055   67867115   \n",
       "4999      AZ          Tempe           Phoenix      42.4470  105299201   \n",
       "\n",
       "                          industry  yrs_on_list  \n",
       "0     Consumer Products & Services            2  \n",
       "1                  Food & Beverage            1  \n",
       "2     Business Products & Services            1  \n",
       "3                         Software            1  \n",
       "4               Telecommunications            1  \n",
       "...                            ...          ...  \n",
       "4995                      Software            4  \n",
       "4996        Environmental Services            3  \n",
       "4997       Advertising & Marketing            7  \n",
       "4998                        Health            1  \n",
       "4999    Logistics & Transportation            3  \n",
       "\n",
       "[5000 rows x 19 columns]"
      ]
     },
     "execution_count": 1,
     "metadata": {},
     "output_type": "execute_result"
    }
   ],
   "source": [
    "import pandas as pd\n",
    "\n",
    "df = pd.read_csv('Data Set- Inc5000 Company List_2014.csv')\n",
    "df"
   ]
  },
  {
   "cell_type": "code",
   "execution_count": 5,
   "metadata": {},
   "outputs": [
    {
     "data": {
      "text/html": [
       "<div>\n",
       "<style scoped>\n",
       "    .dataframe tbody tr th:only-of-type {\n",
       "        vertical-align: middle;\n",
       "    }\n",
       "\n",
       "    .dataframe tbody tr th {\n",
       "        vertical-align: top;\n",
       "    }\n",
       "\n",
       "    .dataframe thead th {\n",
       "        text-align: right;\n",
       "    }\n",
       "</style>\n",
       "<table border=\"1\" class=\"dataframe\">\n",
       "  <thead>\n",
       "    <tr style=\"text-align: right;\">\n",
       "      <th></th>\n",
       "      <th>_input</th>\n",
       "      <th>_num</th>\n",
       "      <th>_widgetName</th>\n",
       "      <th>_source</th>\n",
       "      <th>_resultNumber</th>\n",
       "      <th>_pageUrl</th>\n",
       "      <th>id</th>\n",
       "      <th>rank</th>\n",
       "      <th>workers</th>\n",
       "      <th>company</th>\n",
       "      <th>url</th>\n",
       "      <th>state_l</th>\n",
       "      <th>state_s</th>\n",
       "      <th>city</th>\n",
       "      <th>metro</th>\n",
       "      <th>growth</th>\n",
       "      <th>revenue</th>\n",
       "      <th>industry</th>\n",
       "      <th>yrs_on_list</th>\n",
       "    </tr>\n",
       "  </thead>\n",
       "  <tbody>\n",
       "  </tbody>\n",
       "</table>\n",
       "</div>"
      ],
      "text/plain": [
       "Empty DataFrame\n",
       "Columns: [_input, _num, _widgetName, _source, _resultNumber, _pageUrl, id, rank, workers, company, url, state_l, state_s, city, metro, growth, revenue, industry, yrs_on_list]\n",
       "Index: []"
      ]
     },
     "execution_count": 5,
     "metadata": {},
     "output_type": "execute_result"
    }
   ],
   "source": [
    "df[df['state_l']=='Wyoming']"
   ]
  },
  {
   "cell_type": "code",
   "execution_count": 37,
   "metadata": {},
   "outputs": [
    {
     "name": "stdout",
     "output_type": "stream",
     "text": [
      "<class 'pandas.core.frame.DataFrame'>\n",
      "RangeIndex: 5000 entries, 0 to 4999\n",
      "Data columns (total 19 columns):\n",
      " #   Column         Non-Null Count  Dtype  \n",
      "---  ------         --------------  -----  \n",
      " 0   _input         0 non-null      float64\n",
      " 1   _num           5000 non-null   int64  \n",
      " 2   _widgetName    5000 non-null   object \n",
      " 3   _source        5000 non-null   object \n",
      " 4   _resultNumber  5000 non-null   int64  \n",
      " 5   _pageUrl       5000 non-null   object \n",
      " 6   id             5000 non-null   int64  \n",
      " 7   rank           5000 non-null   int64  \n",
      " 8   workers        5000 non-null   int64  \n",
      " 9   company        5000 non-null   object \n",
      " 10  url            5000 non-null   object \n",
      " 11  state_l        5000 non-null   object \n",
      " 12  state_s        5000 non-null   object \n",
      " 13  city           5000 non-null   object \n",
      " 14  metro          4942 non-null   object \n",
      " 15  growth         5000 non-null   float64\n",
      " 16  revenue        5000 non-null   int64  \n",
      " 17  industry       5000 non-null   object \n",
      " 18  yrs_on_list    5000 non-null   int64  \n",
      "dtypes: float64(2), int64(7), object(10)\n",
      "memory usage: 742.3+ KB\n"
     ]
    }
   ],
   "source": [
    "df.info()"
   ]
  },
  {
   "cell_type": "markdown",
   "metadata": {},
   "source": [
    "Dari informasi di atas, tidak ada missing value dan seluruh data type sudah tepat."
   ]
  },
  {
   "cell_type": "markdown",
   "metadata": {},
   "source": [
    "# Data Cleaning"
   ]
  },
  {
   "cell_type": "markdown",
   "metadata": {},
   "source": [
    "Cleaning dilakukan dengan menghapus column yang tidak digunakan yaitu _input, _num, dan _resultNumber"
   ]
  },
  {
   "cell_type": "code",
   "execution_count": 38,
   "metadata": {},
   "outputs": [
    {
     "data": {
      "text/html": [
       "<div>\n",
       "<style scoped>\n",
       "    .dataframe tbody tr th:only-of-type {\n",
       "        vertical-align: middle;\n",
       "    }\n",
       "\n",
       "    .dataframe tbody tr th {\n",
       "        vertical-align: top;\n",
       "    }\n",
       "\n",
       "    .dataframe thead th {\n",
       "        text-align: right;\n",
       "    }\n",
       "</style>\n",
       "<table border=\"1\" class=\"dataframe\">\n",
       "  <thead>\n",
       "    <tr style=\"text-align: right;\">\n",
       "      <th></th>\n",
       "      <th>_widgetName</th>\n",
       "      <th>_source</th>\n",
       "      <th>_pageUrl</th>\n",
       "      <th>id</th>\n",
       "      <th>rank</th>\n",
       "      <th>workers</th>\n",
       "      <th>company</th>\n",
       "      <th>url</th>\n",
       "      <th>state_l</th>\n",
       "      <th>state_s</th>\n",
       "      <th>city</th>\n",
       "      <th>metro</th>\n",
       "      <th>growth</th>\n",
       "      <th>revenue</th>\n",
       "      <th>industry</th>\n",
       "      <th>yrs_on_list</th>\n",
       "    </tr>\n",
       "  </thead>\n",
       "  <tbody>\n",
       "    <tr>\n",
       "      <th>0</th>\n",
       "      <td>Inc5000 Company List</td>\n",
       "      <td>Inc5000 Company List</td>\n",
       "      <td>http://www.inc.com/inc5000list/json/inc5000_20...</td>\n",
       "      <td>22890</td>\n",
       "      <td>1</td>\n",
       "      <td>227</td>\n",
       "      <td>Fuhu</td>\n",
       "      <td>fuhu</td>\n",
       "      <td>California</td>\n",
       "      <td>CA</td>\n",
       "      <td>El Segundo</td>\n",
       "      <td>Los Angeles</td>\n",
       "      <td>158956.91</td>\n",
       "      <td>195640000</td>\n",
       "      <td>Consumer Products &amp; Services</td>\n",
       "      <td>2</td>\n",
       "    </tr>\n",
       "    <tr>\n",
       "      <th>1</th>\n",
       "      <td>Inc5000 Company List</td>\n",
       "      <td>Inc5000 Company List</td>\n",
       "      <td>http://www.inc.com/inc5000list/json/inc5000_20...</td>\n",
       "      <td>25747</td>\n",
       "      <td>2</td>\n",
       "      <td>191</td>\n",
       "      <td>Quest Nutrition</td>\n",
       "      <td>quest-nutrition</td>\n",
       "      <td>California</td>\n",
       "      <td>CA</td>\n",
       "      <td>El Segundo</td>\n",
       "      <td>Los Angeles</td>\n",
       "      <td>57347.92</td>\n",
       "      <td>82640563</td>\n",
       "      <td>Food &amp; Beverage</td>\n",
       "      <td>1</td>\n",
       "    </tr>\n",
       "    <tr>\n",
       "      <th>2</th>\n",
       "      <td>Inc5000 Company List</td>\n",
       "      <td>Inc5000 Company List</td>\n",
       "      <td>http://www.inc.com/inc5000list/json/inc5000_20...</td>\n",
       "      <td>25643</td>\n",
       "      <td>3</td>\n",
       "      <td>145</td>\n",
       "      <td>Reliant Asset Management</td>\n",
       "      <td>reliant-asset-management</td>\n",
       "      <td>Virginia</td>\n",
       "      <td>VA</td>\n",
       "      <td>Arlington</td>\n",
       "      <td>Washington DC</td>\n",
       "      <td>55460.16</td>\n",
       "      <td>85076502</td>\n",
       "      <td>Business Products &amp; Services</td>\n",
       "      <td>1</td>\n",
       "    </tr>\n",
       "    <tr>\n",
       "      <th>3</th>\n",
       "      <td>Inc5000 Company List</td>\n",
       "      <td>Inc5000 Company List</td>\n",
       "      <td>http://www.inc.com/inc5000list/json/inc5000_20...</td>\n",
       "      <td>26098</td>\n",
       "      <td>4</td>\n",
       "      <td>62</td>\n",
       "      <td>Superfish</td>\n",
       "      <td>superfish</td>\n",
       "      <td>California</td>\n",
       "      <td>CA</td>\n",
       "      <td>Palo Alto</td>\n",
       "      <td>San Jose</td>\n",
       "      <td>26042.96</td>\n",
       "      <td>35293000</td>\n",
       "      <td>Software</td>\n",
       "      <td>1</td>\n",
       "    </tr>\n",
       "    <tr>\n",
       "      <th>4</th>\n",
       "      <td>Inc5000 Company List</td>\n",
       "      <td>Inc5000 Company List</td>\n",
       "      <td>http://www.inc.com/inc5000list/json/inc5000_20...</td>\n",
       "      <td>26182</td>\n",
       "      <td>5</td>\n",
       "      <td>92</td>\n",
       "      <td>Acacia Communications</td>\n",
       "      <td>acacia-communications</td>\n",
       "      <td>Massachusetts</td>\n",
       "      <td>MA</td>\n",
       "      <td>Maynard</td>\n",
       "      <td>Boston</td>\n",
       "      <td>20690.46</td>\n",
       "      <td>77652360</td>\n",
       "      <td>Telecommunications</td>\n",
       "      <td>1</td>\n",
       "    </tr>\n",
       "  </tbody>\n",
       "</table>\n",
       "</div>"
      ],
      "text/plain": [
       "            _widgetName               _source  \\\n",
       "0  Inc5000 Company List  Inc5000 Company List   \n",
       "1  Inc5000 Company List  Inc5000 Company List   \n",
       "2  Inc5000 Company List  Inc5000 Company List   \n",
       "3  Inc5000 Company List  Inc5000 Company List   \n",
       "4  Inc5000 Company List  Inc5000 Company List   \n",
       "\n",
       "                                            _pageUrl     id  rank  workers  \\\n",
       "0  http://www.inc.com/inc5000list/json/inc5000_20...  22890     1      227   \n",
       "1  http://www.inc.com/inc5000list/json/inc5000_20...  25747     2      191   \n",
       "2  http://www.inc.com/inc5000list/json/inc5000_20...  25643     3      145   \n",
       "3  http://www.inc.com/inc5000list/json/inc5000_20...  26098     4       62   \n",
       "4  http://www.inc.com/inc5000list/json/inc5000_20...  26182     5       92   \n",
       "\n",
       "                    company                       url        state_l state_s  \\\n",
       "0                      Fuhu                      fuhu     California      CA   \n",
       "1           Quest Nutrition           quest-nutrition     California      CA   \n",
       "2  Reliant Asset Management  reliant-asset-management       Virginia      VA   \n",
       "3                 Superfish                 superfish     California      CA   \n",
       "4     Acacia Communications     acacia-communications  Massachusetts      MA   \n",
       "\n",
       "         city          metro    growth    revenue  \\\n",
       "0  El Segundo    Los Angeles 158956.91  195640000   \n",
       "1  El Segundo    Los Angeles  57347.92   82640563   \n",
       "2   Arlington  Washington DC  55460.16   85076502   \n",
       "3   Palo Alto       San Jose  26042.96   35293000   \n",
       "4     Maynard         Boston  20690.46   77652360   \n",
       "\n",
       "                       industry  yrs_on_list  \n",
       "0  Consumer Products & Services            2  \n",
       "1               Food & Beverage            1  \n",
       "2  Business Products & Services            1  \n",
       "3                      Software            1  \n",
       "4            Telecommunications            1  "
      ]
     },
     "execution_count": 38,
     "metadata": {},
     "output_type": "execute_result"
    }
   ],
   "source": [
    "df = df.drop(columns=['_input', '_num', '_resultNumber'])\n",
    "df.head()"
   ]
  },
  {
   "cell_type": "markdown",
   "metadata": {},
   "source": [
    "# Analisis dan Perhitungan"
   ]
  },
  {
   "cell_type": "markdown",
   "metadata": {},
   "source": [
    "### Berdasarkan Jenis Industri"
   ]
  },
  {
   "cell_type": "markdown",
   "metadata": {},
   "source": [
    "Analisis dilakukan berdasarkan jumlah, median, dan rata-rata dari data yang tersedia."
   ]
  },
  {
   "cell_type": "code",
   "execution_count": 62,
   "metadata": {},
   "outputs": [
    {
     "name": "stdout",
     "output_type": "stream",
     "text": [
      "SUM\n",
      "industry\n",
      "Consumer Products & Services   306311.95\n",
      "IT Services                    254865.67\n",
      "Health                         240387.63\n",
      "Advertising & Marketing        235512.05\n",
      "Business Products & Services   191252.15\n",
      "Name: growth, dtype: float64\n",
      "\n",
      "MEDIAN\n",
      "industry\n",
      "Media                 236.02\n",
      "Government Services   218.96\n",
      "Retail                215.37\n",
      "Software              207.77\n",
      "Real Estate           198.74\n",
      "Name: growth, dtype: float64\n",
      "\n",
      "AVERAGE\n",
      "industry\n",
      "Consumer Products & Services   1331.79\n",
      "Energy                          970.04\n",
      "Food & Beverage                 963.14\n",
      "Health                          637.63\n",
      "Government Services             594.71\n",
      "Name: growth, dtype: float64\n",
      "\n"
     ]
    }
   ],
   "source": [
    "sum = df.groupby('industry')['growth'].sum().sort_values(ascending = False).head()\n",
    "median = df.groupby('industry')['growth'].median().sort_values(ascending = False).head()\n",
    "avg = df.groupby('industry')['growth'].mean().sort_values(ascending = False).head()\n",
    "print(\"SUM\")\n",
    "print(sum)\n",
    "print()\n",
    "\n",
    "print(\"MEDIAN\")\n",
    "print(median)\n",
    "print()\n",
    "\n",
    "print(\"AVERAGE\")\n",
    "print(avg)\n",
    "print()\n"
   ]
  },
  {
   "cell_type": "markdown",
   "metadata": {},
   "source": [
    "Jenis industri dengan rata-rata growth paling tinggi adalah Consumer Products & Services"
   ]
  },
  {
   "cell_type": "code",
   "execution_count": 109,
   "metadata": {},
   "outputs": [
    {
     "name": "stderr",
     "output_type": "stream",
     "text": [
      "c:\\Users\\LENOVO\\AppData\\Local\\Programs\\Python\\Python311\\Lib\\site-packages\\seaborn\\_oldcore.py:1498: FutureWarning: is_categorical_dtype is deprecated and will be removed in a future version. Use isinstance(dtype, CategoricalDtype) instead\n",
      "  if pd.api.types.is_categorical_dtype(vector):\n",
      "c:\\Users\\LENOVO\\AppData\\Local\\Programs\\Python\\Python311\\Lib\\site-packages\\seaborn\\_oldcore.py:1498: FutureWarning: is_categorical_dtype is deprecated and will be removed in a future version. Use isinstance(dtype, CategoricalDtype) instead\n",
      "  if pd.api.types.is_categorical_dtype(vector):\n",
      "c:\\Users\\LENOVO\\AppData\\Local\\Programs\\Python\\Python311\\Lib\\site-packages\\seaborn\\_oldcore.py:1498: FutureWarning: is_categorical_dtype is deprecated and will be removed in a future version. Use isinstance(dtype, CategoricalDtype) instead\n",
      "  if pd.api.types.is_categorical_dtype(vector):\n"
     ]
    },
    {
     "data": {
      "image/png": "[encoded data removed]",
      "text/plain": [
       "<Figure size 1200x600 with 1 Axes>"
      ]
     },
     "metadata": {},
     "output_type": "display_data"
    }
   ],
   "source": [
    "import seaborn as sns\n",
    "import matplotlib.pyplot as plt\n",
    "\n",
    "# Sort the DataFrame by 'Revenue' column in descending order\n",
    "df_sorted = df.sort_values(by='growth', ascending=False).head(10)\n",
    "\n",
    "# Create a bar plot using Seaborn\n",
    "plt.figure(figsize=(12, 6))  # Set the size of the plot\n",
    "sns.barplot(y='growth', x='industry', data=df_sorted, palette='viridis')\n",
    "\n",
    "# Add labels and a title\n",
    "plt.ylabel('growth')\n",
    "plt.xlabel('industry')\n",
    "plt.title('Revenue by Company (Sorted by Revenue)')\n",
    "\n",
    "# Show the plot\n",
    "plt.show()"
   ]
  },
  {
   "cell_type": "markdown",
   "metadata": {},
   "source": [
    "Berdasarkan hasil di atas, didapat bahwa industry paling banyak perkembangannya adalah Consumer Products & Services"
   ]
  },
  {
   "cell_type": "code",
   "execution_count": 42,
   "metadata": {},
   "outputs": [
    {
     "data": {
      "text/plain": [
       "industry\n",
       "Energy                       186229821.60\n",
       "Logistics & Transportation    84912032.91\n",
       "Telecommunications            69162768.36\n",
       "Insurance                     67914999.31\n",
       "Real Estate                   67836426.34\n",
       "Name: revenue, dtype: float64"
      ]
     },
     "execution_count": 42,
     "metadata": {},
     "output_type": "execute_result"
    }
   ],
   "source": [
    "pd.set_option('display.float_format', '{:.2f}'.format)\n",
    "df.groupby('industry')['revenue'].mean().sort_values(ascending = False).head()"
   ]
  },
  {
   "cell_type": "code",
   "execution_count": 111,
   "metadata": {},
   "outputs": [
    {
     "data": {
      "text/plain": [
       "industry\n",
       "Human Resources                 171203\n",
       "Business Products & Services    116613\n",
       "IT Services                     111662\n",
       "Health                           92487\n",
       "Food & Beverage                  65423\n",
       "Name: workers, dtype: int64"
      ]
     },
     "execution_count": 111,
     "metadata": {},
     "output_type": "execute_result"
    }
   ],
   "source": [
    "df.groupby('industry')['workers'].sum().sort_values(ascending = False).head()"
   ]
  },
  {
   "cell_type": "code",
   "execution_count": 112,
   "metadata": {},
   "outputs": [
    {
     "name": "stderr",
     "output_type": "stream",
     "text": [
      "c:\\Users\\LENOVO\\AppData\\Local\\Programs\\Python\\Python311\\Lib\\site-packages\\seaborn\\_oldcore.py:1498: FutureWarning: is_categorical_dtype is deprecated and will be removed in a future version. Use isinstance(dtype, CategoricalDtype) instead\n",
      "  if pd.api.types.is_categorical_dtype(vector):\n",
      "c:\\Users\\LENOVO\\AppData\\Local\\Programs\\Python\\Python311\\Lib\\site-packages\\seaborn\\_oldcore.py:1498: FutureWarning: is_categorical_dtype is deprecated and will be removed in a future version. Use isinstance(dtype, CategoricalDtype) instead\n",
      "  if pd.api.types.is_categorical_dtype(vector):\n",
      "c:\\Users\\LENOVO\\AppData\\Local\\Programs\\Python\\Python311\\Lib\\site-packages\\seaborn\\_oldcore.py:1498: FutureWarning: is_categorical_dtype is deprecated and will be removed in a future version. Use isinstance(dtype, CategoricalDtype) instead\n",
      "  if pd.api.types.is_categorical_dtype(vector):\n"
     ]
    },
    {
     "data": {
      "image/png": "[encoded data removed]",
      "text/plain": [
       "<Figure size 1200x600 with 1 Axes>"
      ]
     },
     "metadata": {},
     "output_type": "display_data"
    }
   ],
   "source": [
    "import seaborn as sns\n",
    "import matplotlib.pyplot as plt\n",
    "\n",
    "# Sort the DataFrame by 'Revenue' column in descending order\n",
    "df_sorted = df.sort_values(by='workers', ascending=False)\n",
    "\n",
    "# Create a bar plot using Seaborn\n",
    "plt.figure(figsize=(12, 6))  # Set the size of the plot\n",
    "sns.barplot(y='workers', x='industry', data=df_sorted, palette='viridis')\n",
    "\n",
    "# Add labels and a title\n",
    "plt.ylabel('workers')\n",
    "plt.xlabel('industry')\n",
    "plt.title('workers by industry (Sorted by workers)')\n",
    "\n",
    "# Show the plot\n",
    "plt.show()"
   ]
  },
  {
   "cell_type": "markdown",
   "metadata": {},
   "source": [
    "Berdasarkan hasil di atas, sektor yang menciptakan banyak lapangan pekerjaan adalah sektor Human Resouces"
   ]
  },
  {
   "cell_type": "markdown",
   "metadata": {},
   "source": [
    "### Berdasarkan States"
   ]
  },
  {
   "cell_type": "code",
   "execution_count": 106,
   "metadata": {},
   "outputs": [
    {
     "data": {
      "text/plain": [
       "state_l\n",
       "Hawaii       2769.00\n",
       "Maine        1694.71\n",
       "California    876.20\n",
       "New Mexico    817.81\n",
       "Arizona       778.16\n",
       "Name: growth, dtype: float64"
      ]
     },
     "execution_count": 106,
     "metadata": {},
     "output_type": "execute_result"
    }
   ],
   "source": [
    "df.groupby('state_l')['growth'].mean().sort_values(ascending = False).head()"
   ]
  },
  {
   "cell_type": "code",
   "execution_count": 107,
   "metadata": {},
   "outputs": [
    {
     "data": {
      "text/plain": [
       "state_l\n",
       "Tennessee   101924287.80\n",
       "Wisconsin   100906957.20\n",
       "Texas        67484979.54\n",
       "Minnesota    64740041.71\n",
       "Ohio         64627478.51\n",
       "Name: revenue, dtype: float64"
      ]
     },
     "execution_count": 107,
     "metadata": {},
     "output_type": "execute_result"
    }
   ],
   "source": [
    "pd.set_option('display.float_format', '{:.2f}'.format)\n",
    "df.groupby('state_l')['revenue'].mean().sort_values(ascending = False).head()"
   ]
  },
  {
   "cell_type": "code",
   "execution_count": 50,
   "metadata": {},
   "outputs": [
    {
     "data": {
      "text/plain": [
       "state_l\n",
       "Tennessee   565.36\n",
       "Michigan    431.40\n",
       "Illinois    412.39\n",
       "Maryland    352.66\n",
       "Iowa        306.73\n",
       "Name: workers, dtype: float64"
      ]
     },
     "execution_count": 50,
     "metadata": {},
     "output_type": "execute_result"
    }
   ],
   "source": [
    "df.groupby('state_l')['workers'].mean().sort_values(ascending = False).head()"
   ]
  },
  {
   "cell_type": "code",
   "execution_count": 114,
   "metadata": {},
   "outputs": [
    {
     "name": "stderr",
     "output_type": "stream",
     "text": [
      "c:\\Users\\LENOVO\\AppData\\Local\\Programs\\Python\\Python311\\Lib\\site-packages\\seaborn\\_oldcore.py:1498: FutureWarning: is_categorical_dtype is deprecated and will be removed in a future version. Use isinstance(dtype, CategoricalDtype) instead\n",
      "  if pd.api.types.is_categorical_dtype(vector):\n",
      "c:\\Users\\LENOVO\\AppData\\Local\\Programs\\Python\\Python311\\Lib\\site-packages\\seaborn\\_oldcore.py:1498: FutureWarning: is_categorical_dtype is deprecated and will be removed in a future version. Use isinstance(dtype, CategoricalDtype) instead\n",
      "  if pd.api.types.is_categorical_dtype(vector):\n",
      "c:\\Users\\LENOVO\\AppData\\Local\\Programs\\Python\\Python311\\Lib\\site-packages\\seaborn\\_oldcore.py:1498: FutureWarning: is_categorical_dtype is deprecated and will be removed in a future version. Use isinstance(dtype, CategoricalDtype) instead\n",
      "  if pd.api.types.is_categorical_dtype(vector):\n"
     ]
    },
    {
     "data": {
      "image/png": "[encoded data removed]",
      "text/plain": [
       "<Figure size 1200x600 with 1 Axes>"
      ]
     },
     "metadata": {},
     "output_type": "display_data"
    }
   ],
   "source": [
    "import seaborn as sns\n",
    "import matplotlib.pyplot as plt\n",
    "\n",
    "# Sort the DataFrame by 'Revenue' column in descending order\n",
    "df_sorted = df.sort_values(by='growth', ascending=False)\n",
    "\n",
    "# Create a bar plot using Seaborn\n",
    "plt.figure(figsize=(12, 6))  # Set the size of the plot\n",
    "sns.barplot(y='growth', x='state_l', data=df_sorted, palette='viridis')\n",
    "\n",
    "# Add labels and a title\n",
    "plt.ylabel('growth')\n",
    "plt.xlabel('state_l')\n",
    "plt.title('growth by state')\n",
    "\n",
    "# Show the plot\n",
    "plt.show()"
   ]
  },
  {
   "cell_type": "markdown",
   "metadata": {},
   "source": [
    "Berdasarkan hasil di atas, Hawaii adalah state yang paling tinggi tingkat pertumbuhan perusahaannya."
   ]
  },
  {
   "cell_type": "markdown",
   "metadata": {},
   "source": [
    "### Berdasarkan Company"
   ]
  },
  {
   "cell_type": "code",
   "execution_count": 57,
   "metadata": {},
   "outputs": [
    {
     "data": {
      "text/plain": [
       "company\n",
       "Fuhu                       158956.91\n",
       "Quest Nutrition             57347.92\n",
       "Reliant Asset Management    55460.16\n",
       "Superfish                   26042.96\n",
       "Acacia Communications       20690.46\n",
       "Name: growth, dtype: float64"
      ]
     },
     "execution_count": 57,
     "metadata": {},
     "output_type": "execute_result"
    }
   ],
   "source": [
    "df.groupby('company')['growth'].sum().sort_values(ascending = False).head()"
   ]
  },
  {
   "cell_type": "code",
   "execution_count": 58,
   "metadata": {},
   "outputs": [
    {
     "data": {
      "text/plain": [
       "company\n",
       "Pacific Union Real Estate     5528202691\n",
       "ABC Supply                    4911166514\n",
       "Eco-Energy Global Biofuels    4138790000\n",
       "EnvisionRxOptions             3644869906\n",
       "Bridger                       3487872233\n",
       "Name: revenue, dtype: int64"
      ]
     },
     "execution_count": 58,
     "metadata": {},
     "output_type": "execute_result"
    }
   ],
   "source": [
    "pd.set_option('display.float_format', '{:.2f}'.format)\n",
    "df.groupby('company')['revenue'].sum().sort_values(ascending = False).head()"
   ]
  },
  {
   "cell_type": "code",
   "execution_count": 59,
   "metadata": {},
   "outputs": [
    {
     "data": {
      "text/plain": [
       "company\n",
       "Universal Services of America    34219\n",
       "Sutherland Global Services       30000\n",
       "The Seaton Companies             28726\n",
       "AtWork Group                     23689\n",
       "Infiniti HR                      20000\n",
       "Name: workers, dtype: int64"
      ]
     },
     "execution_count": 59,
     "metadata": {},
     "output_type": "execute_result"
    }
   ],
   "source": [
    "df.groupby('company')['workers'].sum().sort_values(ascending = False).head()"
   ]
  },
  {
   "cell_type": "code",
   "execution_count": 102,
   "metadata": {},
   "outputs": [
    {
     "name": "stderr",
     "output_type": "stream",
     "text": [
      "c:\\Users\\LENOVO\\AppData\\Local\\Programs\\Python\\Python311\\Lib\\site-packages\\seaborn\\_oldcore.py:1498: FutureWarning: is_categorical_dtype is deprecated and will be removed in a future version. Use isinstance(dtype, CategoricalDtype) instead\n",
      "  if pd.api.types.is_categorical_dtype(vector):\n",
      "c:\\Users\\LENOVO\\AppData\\Local\\Programs\\Python\\Python311\\Lib\\site-packages\\seaborn\\_oldcore.py:1498: FutureWarning: is_categorical_dtype is deprecated and will be removed in a future version. Use isinstance(dtype, CategoricalDtype) instead\n",
      "  if pd.api.types.is_categorical_dtype(vector):\n",
      "c:\\Users\\LENOVO\\AppData\\Local\\Programs\\Python\\Python311\\Lib\\site-packages\\seaborn\\_oldcore.py:1498: FutureWarning: is_categorical_dtype is deprecated and will be removed in a future version. Use isinstance(dtype, CategoricalDtype) instead\n",
      "  if pd.api.types.is_categorical_dtype(vector):\n"
     ]
    },
    {
     "data": {
      "text/plain": [
       "<Axes: xlabel='workers', ylabel='count'>"
      ]
     },
     "execution_count": 102,
     "metadata": {},
     "output_type": "execute_result"
    },
    {
     "data": {
      "image/png": "[encoded data removed]",
      "text/plain": [
       "<Figure size 640x480 with 1 Axes>"
      ]
     },
     "metadata": {},
     "output_type": "display_data"
    }
   ],
   "source": [
    "sns.countplot(x=df.groupby('company')['workers'].sum().sort_values(ascending = False))"
   ]
  },
  {
   "cell_type": "markdown",
   "metadata": {},
   "source": [
    "### Analisis Growth Antar Industri"
   ]
  },
  {
   "cell_type": "markdown",
   "metadata": {},
   "source": [
    "Analisis dilakukan menggunakan one way ANOVA\n",
    "\n",
    "H0: Tidak terdapat perbedaan pertumbuhan secara signifikan antar jenis industri\n",
    "\n",
    "H1: Terdapat perbedaan pertumbuhan signifikan antar jenis industri"
   ]
  },
  {
   "cell_type": "code",
   "execution_count": 98,
   "metadata": {},
   "outputs": [
    {
     "name": "stdout",
     "output_type": "stream",
     "text": [
      "F-statistic: 1.5812122485134825\n",
      "P-value: 0.03559420349103201\n",
      "Reject the null hypothesis: There is a significant difference in growth among industries.\n"
     ]
    }
   ],
   "source": [
    "import pandas as pd\n",
    "from scipy.stats import f_oneway\n",
    "\n",
    "# Group data by 'industry' and store the groups in a dictionary\n",
    "groups = {}\n",
    "for industry, data in df.groupby('industry')['growth']:\n",
    "    groups[industry] = data\n",
    "\n",
    "# Perform one-way ANOVA\n",
    "f_statistic, p_value = f_oneway(*groups.values())\n",
    "\n",
    "# Print the results\n",
    "print(\"F-statistic:\", f_statistic)\n",
    "print(\"P-value:\", p_value)\n",
    "\n",
    "# Interpret the results\n",
    "alpha = 0.05  # significance level\n",
    "if p_value < alpha:\n",
    "    print(\"Reject the null hypothesis: There is a significant difference in growth among industries.\")\n",
    "else:\n",
    "    print(\"Fail to reject the null hypothesis: There is no significant difference in growth among industries.\")\n"
   ]
  },
  {
   "cell_type": "markdown",
   "metadata": {},
   "source": [
    "Karena P-Value kurang dari 0.05, maka H0 ditolak. Sehingga terdapat perbedaan pertumbuhan secara signifikan antar jenis industri."
   ]
  },
  {
   "cell_type": "markdown",
   "metadata": {},
   "source": [
    "### Analisis Growth antar State"
   ]
  },
  {
   "cell_type": "markdown",
   "metadata": {},
   "source": [
    "Analisis dilakukan menggunakan one way ANOVA\n",
    "\n",
    "H0: Tidak terdapat perbedaan pertumbuhan secara signifikan antar negara bagian\n",
    "\n",
    "H1: Terdapat perbedaan pertumbuhan signifikan antar negara bagian"
   ]
  },
  {
   "cell_type": "code",
   "execution_count": 99,
   "metadata": {},
   "outputs": [
    {
     "name": "stdout",
     "output_type": "stream",
     "text": [
      "F-statistic: 0.5792517496480396\n",
      "P-value: 0.9923507196783544\n",
      "Fail to reject the null hypothesis: There is no significant difference in growth among state_l values.\n"
     ]
    }
   ],
   "source": [
    "import pandas as pd\n",
    "from scipy.stats import f_oneway\n",
    "\n",
    "# Group data by 'state_l' and store the groups in a dictionary\n",
    "groups = {}\n",
    "for state_l, data in df.groupby('state_l')['growth']:\n",
    "    groups[state_l] = data\n",
    "\n",
    "# Perform one-way ANOVA\n",
    "f_statistic, p_value = f_oneway(*groups.values())\n",
    "\n",
    "# Print the results\n",
    "print(\"F-statistic:\", f_statistic)\n",
    "print(\"P-value:\", p_value)\n",
    "\n",
    "# Interpret the results\n",
    "alpha = 0.05  # significance level\n",
    "if p_value < alpha:\n",
    "    print(\"Reject the null hypothesis: There is a significant difference in growth among state_l values.\")\n",
    "else:\n",
    "    print(\"Fail to reject the null hypothesis: There is no significant difference in growth among state_l values.\")\n"
   ]
  },
  {
   "cell_type": "markdown",
   "metadata": {},
   "source": [
    "Karena P-Value lebih dari 0.05, maka H0 diterima. Sehingga tidak terdapat perbedaan pertumbuhan secara signifikan antar negara bagian."
   ]
  },
  {
   "cell_type": "markdown",
   "metadata": {},
   "source": [
    "### Analisis Worker antar Industri"
   ]
  },
  {
   "cell_type": "markdown",
   "metadata": {},
   "source": [
    "Analisis dilakukan menggunakan one way ANOVA\n",
    "\n",
    "H0: Tidak terdapat perbedaan banyak pekerja secara signifikan antar jenis industri\n",
    "\n",
    "H1: Terdapat perbedaan banyak pekerja signifikan antar jenis industri"
   ]
  },
  {
   "cell_type": "code",
   "execution_count": 101,
   "metadata": {},
   "outputs": [
    {
     "name": "stdout",
     "output_type": "stream",
     "text": [
      "F-statistic: 5.4389405971310545\n",
      "P-value: 2.223807558164339e-16\n",
      "Reject the null hypothesis: There is a significant difference in the number of workers among industries.\n"
     ]
    }
   ],
   "source": [
    "import pandas as pd\n",
    "from scipy.stats import f_oneway\n",
    "\n",
    "# Group data by 'industry' and store the groups in a dictionary\n",
    "groups = {}\n",
    "for industry, data in df.groupby('industry')['workers']:\n",
    "    groups[industry] = data\n",
    "\n",
    "# Perform one-way ANOVA\n",
    "f_statistic, p_value = f_oneway(*groups.values())\n",
    "\n",
    "# Print the results\n",
    "print(\"F-statistic:\", f_statistic)\n",
    "print(\"P-value:\", p_value)\n",
    "\n",
    "# Interpret the results\n",
    "alpha = 0.05  # Set significance level\n",
    "if p_value < alpha:\n",
    "    print(\"Reject the null hypothesis: There is a significant difference in the number of workers among industries.\")\n",
    "else:\n",
    "    print(\"Fail to reject the null hypothesis: There is no significant difference in the number of workers among industries.\")\n"
   ]
  },
  {
   "cell_type": "markdown",
   "metadata": {},
   "source": [
    "Karena P-Value kurang dari 0.05, maka H0 ditolak. Sehingga terdapat perbedaan lapangan pekerjaan antar jenis industri."
   ]
  },
  {
   "cell_type": "markdown",
   "metadata": {},
   "source": [
    "# Kesimpulan"
   ]
  },
  {
   "cell_type": "markdown",
   "metadata": {},
   "source": [
    "Dari hasil analisis, dapat disimpulkan bahwa terdapat perbedaan pertumbuhan perusahaan yang signifikan antara berbagai industri. Industri yang menunjukkan pertumbuhan paling cepat adalah dalam sektor Consumer Products & Services.\n",
    "\n",
    "Selain itu, terdapat perbedaan yang signifikan dalam menciptakan lapangan kerja berdasarkan jenis industri. Industri yang paling banyak menciptakan lapangan kerja adalah Human Resources."
   ]
  }
 ],
 "metadata": {
  "kernelspec": {
   "display_name": "Python 3",
   "language": "python",
   "name": "python3"
  },
  "language_info": {
   "codemirror_mode": {
    "name": "ipython",
    "version": 3
   },
   "file_extension": ".py",
   "mimetype": "text/x-python",
   "name": "python",
   "nbconvert_exporter": "python",
   "pygments_lexer": "ipython3",
   "version": "3.11.0"
  },
  "orig_nbformat": 4
 },
 "nbformat": 4,
 "nbformat_minor": 2
}
